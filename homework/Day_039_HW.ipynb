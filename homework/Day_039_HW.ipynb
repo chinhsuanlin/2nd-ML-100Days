{
 "cells": [
  {
   "cell_type": "markdown",
   "metadata": {},
   "source": [
    "## [作業重點]\n",
    "清楚了解 L1, L2 的意義與差異為何，並了解 LASSO 與 Ridge 之間的差異與使用情境"
   ]
  },
  {
   "cell_type": "markdown",
   "metadata": {},
   "source": [
    "## 作業"
   ]
  },
  {
   "cell_type": "markdown",
   "metadata": {},
   "source": [
    "請閱讀相關文獻，並回答下列問題\n",
    "\n",
    "[脊回歸 (Ridge Regression)](https://blog.csdn.net/daunxx/article/details/51578787)\n",
    "[Linear, Ridge, Lasso Regression 本質區別](https://www.zhihu.com/question/38121173)\n",
    "\n",
    "1. LASSO 回歸可以被用來作為 Feature selection 的工具，請了解 LASSO 模型為什麼可用來作 Feature selection\n",
    "2. 當自變數 (X) 存在高度共線性時，Ridge Regression 可以處理這樣的問題嗎?\n"
   ]
  },
  {
   "cell_type": "code",
   "execution_count": null,
   "metadata": {},
   "outputs": [],
   "source": [
    "https://zh.wikipedia.org/wiki/%E7%89%B9%E5%BE%81%E9%80%89%E6%8B%A9\n",
    "    LASSO透過正則化的方式使得權重變為零，而當權重變為零時代表此特徵不影響輸出\n",
    "https://blog.csdn.net/daunxx/article/details/51578787\n",
    "    当使用最小二乘法计算线性回归模型参数的时候，如果数据集合矩阵（也叫做设计矩阵(design matrix)）X，\n",
    "    存在多重共线性，那么最小二乘法对输入变量中的噪声非常的敏感，其解会极为不稳定。为了解决这个问题，\n",
    "    就有了这一节脊回归（Ridge Regression ）。\n",
    "    \n",
    "線性回歸中 參數 W 的解其一步驟是要對 X 求解反矩陣，如果有 X 有高度相關，反矩陣就不存在。\n",
    "\n",
    "但 Ridge Regression 可以解決高度相關的原因是，能夠縮減 X 的高相關特徵，後續非監督式學習會學到 PCA，也是把高維度且相關的特徵降低成低維度的特徵。至於到底是怎麼做到的，就得理解公式推導的每一個步驟在做什麼才可以喔！\n",
    "\n",
    "\n",
    "\n",
    "要完全理解公式推導的話，線性代數常見的奇異值、反矩陣等概念建議先有一定程度的熟悉，會比較好理解！"
   ]
  }
 ],
 "metadata": {
  "kernelspec": {
   "display_name": "Python 3",
   "language": "python",
   "name": "python3"
  },
  "language_info": {
   "codemirror_mode": {
    "name": "ipython",
    "version": 3
   },
   "file_extension": ".py",
   "mimetype": "text/x-python",
   "name": "python",
   "nbconvert_exporter": "python",
   "pygments_lexer": "ipython3",
   "version": "3.7.0"
  }
 },
 "nbformat": 4,
 "nbformat_minor": 2
}

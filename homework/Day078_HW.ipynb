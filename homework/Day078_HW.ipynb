{
 "cells": [
  {
   "cell_type": "markdown",
   "metadata": {},
   "source": [
    "## Work\n",
    "1. 請嘗試將 preproc_x 替換成以每筆資料的 min/max 進行標準化至 -1 ~ 1 間，再進行訓練\n",
    "2. 請嘗試將 mlp 疊更深 (e.g 5~10 層)，進行訓練後觀察 learning curve 的走勢\n",
    "3. (optional) 請改用 GPU 進行訓練 (如果你有 GPU 的話)，比較使用 CPU 與 GPU 的訓練速度"
   ]
  },
  {
   "cell_type": "code",
   "execution_count": 1,
   "metadata": {},
   "outputs": [],
   "source": [
    "## \n",
    "\"\"\"\n",
    "Your code here (optional)\n",
    "確認硬體資源\n",
    "\"\"\"\n"
   ]
  },
  {
   "cell_type": "code",
   "execution_count": 4,
   "metadata": {},
   "outputs": [
    {
     "name": "stderr",
     "output_type": "stream",
     "text": [
      "Using TensorFlow backend.\n"
     ]
    }
   ],
   "source": [
    "import os\n",
    "import keras\n",
    "\n",
    "# 請嘗試設定 GPU：os.environ\n",
    "# 本範例不需使用 GPU, 將 GPU 設定為 \"無\"\n",
    "os.environ[\"CUDA_VISIBLE_DEVICES\"] = \"\""
   ]
  },
  {
   "cell_type": "code",
   "execution_count": 5,
   "metadata": {},
   "outputs": [],
   "source": [
    "train, test = keras.datasets.cifar10.load_data()"
   ]
  },
  {
   "cell_type": "code",
   "execution_count": 12,
   "metadata": {},
   "outputs": [
    {
     "data": {
      "text/plain": [
       "2"
      ]
     },
     "execution_count": 12,
     "metadata": {},
     "output_type": "execute_result"
    }
   ],
   "source": [
    "len(train)"
   ]
  },
  {
   "cell_type": "code",
   "execution_count": 13,
   "metadata": {},
   "outputs": [],
   "source": [
    "from sklearn.preprocessing import MinMaxScaler\n",
    "scaler = MinMaxScaler(feature_range=(-1, 1))\n",
    "## 資料前處理\n",
    "\"\"\"\n",
    "Your code here\n",
    "\"\"\"\n",
    "def preproc_x(x, flatten = True):\n",
    "    #x  = scaler.fit_transform(x)\n",
    "    x = 2*(((x - x.min()) / (x.max() - x.min()))-0.5)\n",
    "    if flatten:\n",
    "        x = x.reshape((len(x),-1))\n",
    "    return x\n",
    "    \n",
    "\n",
    "def preproc_y(y,num_classes = 10):\n",
    "    if y.shape[-1] ==1:\n",
    "        y= keras.utils.to_categorical(y,num_classes)\n",
    "        return y\n",
    "    "
   ]
  },
  {
   "cell_type": "code",
   "execution_count": 14,
   "metadata": {},
   "outputs": [],
   "source": [
    "x_train, y_train = train\n",
    "x_test, y_test = test\n",
    "\n",
    "# Preproc the inputs\n",
    "x_train = preproc_x(x_train)\n",
    "x_test = preproc_x(x_test)\n",
    "\n",
    "# Preprc the outputs\n",
    "y_train = preproc_y(y_train)\n",
    "y_test = preproc_y(y_test)"
   ]
  },
  {
   "cell_type": "code",
   "execution_count": 26,
   "metadata": {},
   "outputs": [
    {
     "data": {
      "text/plain": [
       "(3072,)"
      ]
     },
     "execution_count": 26,
     "metadata": {},
     "output_type": "execute_result"
    }
   ],
   "source": [
    "x_train.shape[1:]"
   ]
  },
  {
   "cell_type": "code",
   "execution_count": 29,
   "metadata": {},
   "outputs": [
    {
     "name": "stdout",
     "output_type": "stream",
     "text": [
      "_________________________________________________________________\n",
      "Layer (type)                 Output Shape              Param #   \n",
      "=================================================================\n",
      "input_3 (InputLayer)         (None, 3072)              0         \n",
      "_________________________________________________________________\n",
      "hidden_layer1 (Dense)        (None, 512)               1573376   \n",
      "_________________________________________________________________\n",
      "hidden_layer2 (Dense)        (None, 512)               262656    \n",
      "_________________________________________________________________\n",
      "hidden_layer3 (Dense)        (None, 256)               131328    \n",
      "_________________________________________________________________\n",
      "hidden_layer4 (Dense)        (None, 256)               65792     \n",
      "_________________________________________________________________\n",
      "hidden_layer5 (Dense)        (None, 128)               32896     \n",
      "_________________________________________________________________\n",
      "hidden_layer6 (Dense)        (None, 128)               16512     \n",
      "_________________________________________________________________\n",
      "hidden_layer7 (Dense)        (None, 64)                8256      \n",
      "_________________________________________________________________\n",
      "hidden_layer8 (Dense)        (None, 64)                4160      \n",
      "_________________________________________________________________\n",
      "output (Dense)               (None, 10)                650       \n",
      "=================================================================\n",
      "Total params: 2,095,626\n",
      "Trainable params: 2,095,626\n",
      "Non-trainable params: 0\n",
      "_________________________________________________________________\n"
     ]
    }
   ],
   "source": [
    "\"\"\"Code Here\n",
    "建立你的神經網路\n",
    "\"\"\"\n",
    "def build_mlp(input_shape,output_units = 10,num_neurous=[512,512,256,256,128,128,64,64]):\n",
    "    input_layer = keras.layers.Input(input_shape)\n",
    "    for i,n_units in enumerate(num_neurous):\n",
    "        if i ==0:\n",
    "            x = keras.layers.Dense(units = n_units,activation = \"relu\",name =\"hidden_layer\"+str(i+1))(input_layer)\n",
    "        else:\n",
    "            x = keras.layers.Dense(units = n_units,activation = \"relu\",name = \"hidden_layer\"+str(i+1))(x)\n",
    "    out = keras.layers.Dense(units = output_units,activation = \"softmax\",name = \"output\")(x)\n",
    "    model = keras.models.Model(inputs = [input_layer],outputs = [out])\n",
    "    return model\n",
    "model = build_mlp(input_shape=x_train.shape[1:])\n",
    "model.summary()"
   ]
  },
  {
   "cell_type": "code",
   "execution_count": 30,
   "metadata": {},
   "outputs": [],
   "source": [
    "## 超參數設定\n",
    "LEARNING_RATE = 0.001\n",
    "EPOCHS = 100\n",
    "BATCH_SIZE = 256"
   ]
  },
  {
   "cell_type": "code",
   "execution_count": 31,
   "metadata": {},
   "outputs": [],
   "source": [
    "optimizer = keras.optimizers.Adam(lr=LEARNING_RATE)\n",
    "model.compile(loss=\"categorical_crossentropy\", metrics=[\"accuracy\"], optimizer=optimizer)"
   ]
  },
  {
   "cell_type": "code",
   "execution_count": 32,
   "metadata": {},
   "outputs": [
    {
     "name": "stdout",
     "output_type": "stream",
     "text": [
      "WARNING:tensorflow:From C:\\Users\\user\\Anaconda3\\lib\\site-packages\\tensorflow\\python\\ops\\math_ops.py:3066: to_int32 (from tensorflow.python.ops.math_ops) is deprecated and will be removed in a future version.\n",
      "Instructions for updating:\n",
      "Use tf.cast instead.\n",
      "Train on 50000 samples, validate on 10000 samples\n",
      "Epoch 1/100\n",
      "50000/50000 [==============================] - 9s 172us/step - loss: 1.7457 - acc: 0.3760 - val_loss: 1.5528 - val_acc: 0.4498\n",
      "Epoch 2/100\n",
      "50000/50000 [==============================] - 8s 156us/step - loss: 1.4983 - acc: 0.4690 - val_loss: 1.4623 - val_acc: 0.4853\n",
      "Epoch 3/100\n",
      "50000/50000 [==============================] - 9s 171us/step - loss: 1.3707 - acc: 0.5165 - val_loss: 1.4106 - val_acc: 0.5074\n",
      "Epoch 4/100\n",
      "50000/50000 [==============================] - 10s 200us/step - loss: 1.2738 - acc: 0.5502 - val_loss: 1.3754 - val_acc: 0.5201\n",
      "Epoch 5/100\n",
      "50000/50000 [==============================] - 9s 175us/step - loss: 1.1806 - acc: 0.5852 - val_loss: 1.3733 - val_acc: 0.5272\n",
      "Epoch 6/100\n",
      "50000/50000 [==============================] - 8s 161us/step - loss: 1.1019 - acc: 0.6109 - val_loss: 1.4036 - val_acc: 0.5085\n",
      "Epoch 7/100\n",
      "50000/50000 [==============================] - 8s 160us/step - loss: 1.0235 - acc: 0.6402 - val_loss: 1.3509 - val_acc: 0.5397\n",
      "Epoch 8/100\n",
      "50000/50000 [==============================] - 8s 162us/step - loss: 0.9316 - acc: 0.6705 - val_loss: 1.4272 - val_acc: 0.5310\n",
      "Epoch 9/100\n",
      "50000/50000 [==============================] - 8s 161us/step - loss: 0.8675 - acc: 0.6938 - val_loss: 1.3702 - val_acc: 0.5443\n",
      "Epoch 10/100\n",
      "50000/50000 [==============================] - 8s 163us/step - loss: 0.7876 - acc: 0.7215 - val_loss: 1.4890 - val_acc: 0.5416\n",
      "Epoch 11/100\n",
      "50000/50000 [==============================] - 8s 163us/step - loss: 0.7163 - acc: 0.7473 - val_loss: 1.5792 - val_acc: 0.5388\n",
      "Epoch 12/100\n",
      "50000/50000 [==============================] - 8s 162us/step - loss: 0.6456 - acc: 0.7719 - val_loss: 1.5205 - val_acc: 0.5428\n",
      "Epoch 13/100\n",
      "50000/50000 [==============================] - 8s 162us/step - loss: 0.5966 - acc: 0.7906 - val_loss: 1.6432 - val_acc: 0.5421\n",
      "Epoch 14/100\n",
      "50000/50000 [==============================] - 8s 163us/step - loss: 0.5258 - acc: 0.8143 - val_loss: 1.8230 - val_acc: 0.5395\n",
      "Epoch 15/100\n",
      "50000/50000 [==============================] - 8s 162us/step - loss: 0.4815 - acc: 0.8293 - val_loss: 1.7939 - val_acc: 0.5420\n",
      "Epoch 16/100\n",
      "50000/50000 [==============================] - 8s 164us/step - loss: 0.4397 - acc: 0.8461 - val_loss: 1.8986 - val_acc: 0.5440\n",
      "Epoch 17/100\n",
      "50000/50000 [==============================] - 8s 165us/step - loss: 0.3898 - acc: 0.8638 - val_loss: 1.9928 - val_acc: 0.5376\n",
      "Epoch 18/100\n",
      "50000/50000 [==============================] - 9s 183us/step - loss: 0.3562 - acc: 0.8762 - val_loss: 2.1102 - val_acc: 0.5378\n",
      "Epoch 19/100\n",
      "50000/50000 [==============================] - 10s 192us/step - loss: 0.3267 - acc: 0.8852 - val_loss: 2.1554 - val_acc: 0.5439\n",
      "Epoch 20/100\n",
      "50000/50000 [==============================] - 8s 168us/step - loss: 0.2975 - acc: 0.8961 - val_loss: 2.2711 - val_acc: 0.5357\n",
      "Epoch 21/100\n",
      "50000/50000 [==============================] - 9s 177us/step - loss: 0.2724 - acc: 0.9068 - val_loss: 2.2537 - val_acc: 0.5360\n",
      "Epoch 22/100\n",
      "50000/50000 [==============================] - 8s 164us/step - loss: 0.2604 - acc: 0.9104 - val_loss: 2.3318 - val_acc: 0.5410\n",
      "Epoch 23/100\n",
      "50000/50000 [==============================] - 8s 164us/step - loss: 0.2300 - acc: 0.9218 - val_loss: 2.3944 - val_acc: 0.5419\n",
      "Epoch 24/100\n",
      "50000/50000 [==============================] - 8s 164us/step - loss: 0.2155 - acc: 0.9267 - val_loss: 2.5349 - val_acc: 0.5324\n",
      "Epoch 25/100\n",
      "50000/50000 [==============================] - 8s 164us/step - loss: 0.2146 - acc: 0.9260 - val_loss: 2.5753 - val_acc: 0.5315\n",
      "Epoch 26/100\n",
      "50000/50000 [==============================] - 8s 165us/step - loss: 0.1918 - acc: 0.9349 - val_loss: 2.5655 - val_acc: 0.5410\n",
      "Epoch 27/100\n",
      "50000/50000 [==============================] - 8s 164us/step - loss: 0.1946 - acc: 0.9335 - val_loss: 2.7592 - val_acc: 0.5329\n",
      "Epoch 28/100\n",
      "50000/50000 [==============================] - 8s 164us/step - loss: 0.1719 - acc: 0.9409 - val_loss: 2.6697 - val_acc: 0.5332\n",
      "Epoch 29/100\n",
      "50000/50000 [==============================] - 8s 165us/step - loss: 0.1528 - acc: 0.9475 - val_loss: 2.6366 - val_acc: 0.5336\n",
      "Epoch 30/100\n",
      "50000/50000 [==============================] - 8s 165us/step - loss: 0.1650 - acc: 0.9449 - val_loss: 2.7418 - val_acc: 0.5352\n",
      "Epoch 31/100\n",
      "50000/50000 [==============================] - 8s 164us/step - loss: 0.1450 - acc: 0.9510 - val_loss: 2.6863 - val_acc: 0.5391\n",
      "Epoch 32/100\n",
      "50000/50000 [==============================] - 8s 164us/step - loss: 0.1408 - acc: 0.9529 - val_loss: 2.9477 - val_acc: 0.5344\n",
      "Epoch 33/100\n",
      "50000/50000 [==============================] - 8s 165us/step - loss: 0.1471 - acc: 0.9507 - val_loss: 2.7816 - val_acc: 0.5368\n",
      "Epoch 34/100\n",
      "50000/50000 [==============================] - 8s 166us/step - loss: 0.1288 - acc: 0.9566 - val_loss: 2.8852 - val_acc: 0.5410\n",
      "Epoch 35/100\n",
      "50000/50000 [==============================] - 8s 164us/step - loss: 0.1282 - acc: 0.9573 - val_loss: 2.8742 - val_acc: 0.5412\n",
      "Epoch 36/100\n",
      "50000/50000 [==============================] - 8s 165us/step - loss: 0.1255 - acc: 0.9579 - val_loss: 2.9011 - val_acc: 0.5342\n",
      "Epoch 37/100\n",
      "50000/50000 [==============================] - 8s 165us/step - loss: 0.1280 - acc: 0.9570 - val_loss: 2.8333 - val_acc: 0.5342\n",
      "Epoch 38/100\n",
      "50000/50000 [==============================] - 8s 165us/step - loss: 0.1162 - acc: 0.9622 - val_loss: 2.7895 - val_acc: 0.5353\n",
      "Epoch 39/100\n",
      "50000/50000 [==============================] - 8s 166us/step - loss: 0.1178 - acc: 0.9600 - val_loss: 2.8283 - val_acc: 0.5365\n",
      "Epoch 40/100\n",
      "50000/50000 [==============================] - 9s 182us/step - loss: 0.0968 - acc: 0.9671 - val_loss: 3.0348 - val_acc: 0.5357\n",
      "Epoch 41/100\n",
      "50000/50000 [==============================] - 9s 173us/step - loss: 0.1060 - acc: 0.9646 - val_loss: 2.7906 - val_acc: 0.5315\n",
      "Epoch 42/100\n",
      "50000/50000 [==============================] - 8s 166us/step - loss: 0.1064 - acc: 0.9652 - val_loss: 3.0281 - val_acc: 0.5361\n",
      "Epoch 43/100\n",
      "50000/50000 [==============================] - 9s 183us/step - loss: 0.1068 - acc: 0.9651 - val_loss: 2.8917 - val_acc: 0.5330\n",
      "Epoch 44/100\n",
      "50000/50000 [==============================] - 9s 180us/step - loss: 0.0958 - acc: 0.9688 - val_loss: 2.9338 - val_acc: 0.5329\n",
      "Epoch 45/100\n",
      "50000/50000 [==============================] - 9s 177us/step - loss: 0.1010 - acc: 0.9669 - val_loss: 3.1146 - val_acc: 0.5468\n",
      "Epoch 46/100\n",
      "50000/50000 [==============================] - 9s 177us/step - loss: 0.1032 - acc: 0.9666 - val_loss: 2.9057 - val_acc: 0.5414\n",
      "Epoch 47/100\n",
      "50000/50000 [==============================] - 9s 171us/step - loss: 0.0932 - acc: 0.9697 - val_loss: 3.0542 - val_acc: 0.5324\n",
      "Epoch 48/100\n",
      "50000/50000 [==============================] - 9s 171us/step - loss: 0.0875 - acc: 0.9717 - val_loss: 3.0577 - val_acc: 0.5322\n",
      "Epoch 49/100\n",
      "50000/50000 [==============================] - 8s 166us/step - loss: 0.0923 - acc: 0.9688 - val_loss: 3.1064 - val_acc: 0.5311\n",
      "Epoch 50/100\n",
      "50000/50000 [==============================] - 8s 166us/step - loss: 0.0972 - acc: 0.9694 - val_loss: 3.1173 - val_acc: 0.5413\n",
      "Epoch 51/100\n",
      "50000/50000 [==============================] - 8s 166us/step - loss: 0.0882 - acc: 0.9711 - val_loss: 3.0904 - val_acc: 0.5366\n",
      "Epoch 52/100\n",
      "50000/50000 [==============================] - 8s 166us/step - loss: 0.0844 - acc: 0.9729 - val_loss: 3.2336 - val_acc: 0.5380\n",
      "Epoch 53/100\n",
      "50000/50000 [==============================] - 8s 167us/step - loss: 0.0846 - acc: 0.9729 - val_loss: 2.9933 - val_acc: 0.5361\n",
      "Epoch 54/100\n",
      "50000/50000 [==============================] - 8s 167us/step - loss: 0.0880 - acc: 0.9715 - val_loss: 3.0572 - val_acc: 0.5385\n",
      "Epoch 55/100\n",
      "50000/50000 [==============================] - 9s 173us/step - loss: 0.0977 - acc: 0.9683 - val_loss: 2.8732 - val_acc: 0.5382\n",
      "Epoch 56/100\n",
      "50000/50000 [==============================] - 9s 178us/step - loss: 0.0839 - acc: 0.9728 - val_loss: 2.9128 - val_acc: 0.5460\n",
      "Epoch 57/100\n"
     ]
    },
    {
     "name": "stdout",
     "output_type": "stream",
     "text": [
      "50000/50000 [==============================] - 9s 175us/step - loss: 0.0731 - acc: 0.9766 - val_loss: 3.2859 - val_acc: 0.5421\n",
      "Epoch 58/100\n",
      "50000/50000 [==============================] - 9s 187us/step - loss: 0.0818 - acc: 0.9739 - val_loss: 3.0716 - val_acc: 0.5380\n",
      "Epoch 59/100\n",
      "50000/50000 [==============================] - 8s 168us/step - loss: 0.0800 - acc: 0.9738 - val_loss: 3.0328 - val_acc: 0.5322\n",
      "Epoch 60/100\n",
      "50000/50000 [==============================] - 9s 176us/step - loss: 0.0703 - acc: 0.9771 - val_loss: 3.0955 - val_acc: 0.5343\n",
      "Epoch 61/100\n",
      "50000/50000 [==============================] - 10s 192us/step - loss: 0.0807 - acc: 0.9738 - val_loss: 3.2196 - val_acc: 0.5453\n",
      "Epoch 62/100\n",
      "50000/50000 [==============================] - 9s 179us/step - loss: 0.0706 - acc: 0.9772 - val_loss: 3.0027 - val_acc: 0.5381\n",
      "Epoch 63/100\n",
      "50000/50000 [==============================] - 9s 174us/step - loss: 0.0712 - acc: 0.9782 - val_loss: 3.2187 - val_acc: 0.5406\n",
      "Epoch 64/100\n",
      "50000/50000 [==============================] - 9s 178us/step - loss: 0.0710 - acc: 0.9772 - val_loss: 2.8815 - val_acc: 0.5390\n",
      "Epoch 65/100\n",
      "50000/50000 [==============================] - 8s 168us/step - loss: 0.0720 - acc: 0.9773 - val_loss: 3.2740 - val_acc: 0.5409\n",
      "Epoch 66/100\n",
      "50000/50000 [==============================] - 8s 167us/step - loss: 0.0773 - acc: 0.9756 - val_loss: 3.2684 - val_acc: 0.5358\n",
      "Epoch 67/100\n",
      "50000/50000 [==============================] - 8s 167us/step - loss: 0.0622 - acc: 0.9800 - val_loss: 3.2476 - val_acc: 0.5385\n",
      "Epoch 68/100\n",
      "50000/50000 [==============================] - 8s 166us/step - loss: 0.0639 - acc: 0.9798 - val_loss: 3.2129 - val_acc: 0.5355\n",
      "Epoch 69/100\n",
      "50000/50000 [==============================] - 8s 166us/step - loss: 0.0651 - acc: 0.9785 - val_loss: 2.9296 - val_acc: 0.5352\n",
      "Epoch 70/100\n",
      "50000/50000 [==============================] - 8s 167us/step - loss: 0.0695 - acc: 0.9775 - val_loss: 3.2865 - val_acc: 0.5398\n",
      "Epoch 71/100\n",
      "50000/50000 [==============================] - 8s 167us/step - loss: 0.0678 - acc: 0.9786 - val_loss: 3.3438 - val_acc: 0.5300\n",
      "Epoch 72/100\n",
      "50000/50000 [==============================] - 8s 166us/step - loss: 0.0703 - acc: 0.9783 - val_loss: 2.9565 - val_acc: 0.5422\n",
      "Epoch 73/100\n",
      "50000/50000 [==============================] - 8s 165us/step - loss: 0.0640 - acc: 0.9787 - val_loss: 3.1305 - val_acc: 0.5422\n",
      "Epoch 74/100\n",
      "50000/50000 [==============================] - 8s 166us/step - loss: 0.0608 - acc: 0.9798 - val_loss: 3.1671 - val_acc: 0.5357\n",
      "Epoch 75/100\n",
      "50000/50000 [==============================] - 8s 167us/step - loss: 0.0580 - acc: 0.9818 - val_loss: 3.2032 - val_acc: 0.5379\n",
      "Epoch 76/100\n",
      "50000/50000 [==============================] - 8s 166us/step - loss: 0.0571 - acc: 0.9815 - val_loss: 3.4738 - val_acc: 0.5328\n",
      "Epoch 77/100\n",
      "50000/50000 [==============================] - 8s 167us/step - loss: 0.0757 - acc: 0.9773 - val_loss: 3.3986 - val_acc: 0.5325\n",
      "Epoch 78/100\n",
      "50000/50000 [==============================] - 8s 166us/step - loss: 0.0676 - acc: 0.9779 - val_loss: 3.1787 - val_acc: 0.5361\n",
      "Epoch 79/100\n",
      "50000/50000 [==============================] - 8s 166us/step - loss: 0.0562 - acc: 0.9826 - val_loss: 3.1986 - val_acc: 0.5367\n",
      "Epoch 80/100\n",
      "50000/50000 [==============================] - 8s 166us/step - loss: 0.0589 - acc: 0.9816 - val_loss: 3.4154 - val_acc: 0.5389\n",
      "Epoch 81/100\n",
      "50000/50000 [==============================] - 8s 167us/step - loss: 0.0595 - acc: 0.9811 - val_loss: 3.1697 - val_acc: 0.5424\n",
      "Epoch 82/100\n",
      "50000/50000 [==============================] - 8s 166us/step - loss: 0.0632 - acc: 0.9808 - val_loss: 3.1632 - val_acc: 0.5414\n",
      "Epoch 83/100\n",
      "50000/50000 [==============================] - 8s 166us/step - loss: 0.0499 - acc: 0.9846 - val_loss: 3.3276 - val_acc: 0.5392\n",
      "Epoch 84/100\n",
      "50000/50000 [==============================] - 8s 168us/step - loss: 0.0541 - acc: 0.9825 - val_loss: 3.3588 - val_acc: 0.5387\n",
      "Epoch 85/100\n",
      "50000/50000 [==============================] - 8s 167us/step - loss: 0.0583 - acc: 0.9817 - val_loss: 3.2903 - val_acc: 0.5410\n",
      "Epoch 86/100\n",
      "50000/50000 [==============================] - 8s 167us/step - loss: 0.0518 - acc: 0.9829 - val_loss: 3.3817 - val_acc: 0.5392\n",
      "Epoch 87/100\n",
      "50000/50000 [==============================] - 8s 166us/step - loss: 0.0511 - acc: 0.9840 - val_loss: 3.5771 - val_acc: 0.5444\n",
      "Epoch 88/100\n",
      "50000/50000 [==============================] - 8s 167us/step - loss: 0.0661 - acc: 0.9796 - val_loss: 3.2090 - val_acc: 0.5338\n",
      "Epoch 89/100\n",
      "50000/50000 [==============================] - 8s 168us/step - loss: 0.0545 - acc: 0.9830 - val_loss: 3.0879 - val_acc: 0.5298\n",
      "Epoch 90/100\n",
      "50000/50000 [==============================] - 8s 166us/step - loss: 0.0492 - acc: 0.9852 - val_loss: 3.4846 - val_acc: 0.5486\n",
      "Epoch 91/100\n",
      "50000/50000 [==============================] - 8s 167us/step - loss: 0.0483 - acc: 0.9847 - val_loss: 3.3033 - val_acc: 0.5405\n",
      "Epoch 92/100\n",
      "50000/50000 [==============================] - 8s 166us/step - loss: 0.0531 - acc: 0.9838 - val_loss: 3.3498 - val_acc: 0.5396\n",
      "Epoch 93/100\n",
      "50000/50000 [==============================] - 8s 167us/step - loss: 0.0483 - acc: 0.9846 - val_loss: 3.3517 - val_acc: 0.5430\n",
      "Epoch 94/100\n",
      "50000/50000 [==============================] - 8s 166us/step - loss: 0.0512 - acc: 0.9844 - val_loss: 3.1838 - val_acc: 0.5386\n",
      "Epoch 95/100\n",
      "50000/50000 [==============================] - 8s 168us/step - loss: 0.0606 - acc: 0.9819 - val_loss: 3.1935 - val_acc: 0.5377\n",
      "Epoch 96/100\n",
      "50000/50000 [==============================] - 8s 166us/step - loss: 0.0459 - acc: 0.9856 - val_loss: 3.6175 - val_acc: 0.5352\n",
      "Epoch 97/100\n",
      "50000/50000 [==============================] - 8s 166us/step - loss: 0.0436 - acc: 0.9860 - val_loss: 3.6426 - val_acc: 0.5420\n",
      "Epoch 98/100\n",
      "50000/50000 [==============================] - 8s 166us/step - loss: 0.0594 - acc: 0.9817 - val_loss: 3.1166 - val_acc: 0.5393\n",
      "Epoch 99/100\n",
      "50000/50000 [==============================] - 8s 166us/step - loss: 0.0517 - acc: 0.9835 - val_loss: 3.4296 - val_acc: 0.5433\n",
      "Epoch 100/100\n",
      "50000/50000 [==============================] - 8s 166us/step - loss: 0.0461 - acc: 0.9858 - val_loss: 3.3803 - val_acc: 0.5435\n"
     ]
    },
    {
     "data": {
      "text/plain": [
       "<keras.callbacks.History at 0x20bbc060c88>"
      ]
     },
     "execution_count": 32,
     "metadata": {},
     "output_type": "execute_result"
    }
   ],
   "source": [
    "model.fit(x_train, y_train, \n",
    "          epochs=EPOCHS, \n",
    "          batch_size=BATCH_SIZE, \n",
    "          validation_data=(x_test, y_test), \n",
    "          shuffle=True)"
   ]
  },
  {
   "cell_type": "code",
   "execution_count": 34,
   "metadata": {},
   "outputs": [
    {
     "data": {
      "image/png": "[encoded data removed]",
      "text/plain": [
       "<Figure size 432x288 with 1 Axes>"
      ]
     },
     "metadata": {
      "needs_background": "light"
     },
     "output_type": "display_data"
    },
    {
     "data": {
      "image/png": "[encoded data removed]",
      "text/plain": [
       "<Figure size 432x288 with 1 Axes>"
      ]
     },
     "metadata": {
      "needs_background": "light"
     },
     "output_type": "display_data"
    }
   ],
   "source": [
    "import matplotlib.pyplot as plt\n",
    "\n",
    "\n",
    "train_loss = model.history.history[\"loss\"]\n",
    "valid_loss = model.history.history[\"val_loss\"]\n",
    "\n",
    "train_acc = model.history.history[\"acc\"]\n",
    "valid_acc = model.history.history[\"val_acc\"]\n",
    "\n",
    "plt.plot(range(len(train_loss)), train_loss, label=\"train loss\")\n",
    "plt.plot(range(len(valid_loss)), valid_loss, label=\"valid loss\")\n",
    "plt.legend()\n",
    "plt.title(\"Loss\")\n",
    "plt.show()\n",
    "\n",
    "plt.plot(range(len(train_acc)), train_acc, label=\"train accuracy\")\n",
    "plt.plot(range(len(valid_acc)), valid_acc, label=\"valid accuracy\")\n",
    "plt.legend()\n",
    "plt.title(\"Accuracy\")\n",
    "plt.show()"
   ]
  }
 ],
 "metadata": {
  "kernelspec": {
   "display_name": "Python 3",
   "language": "python",
   "name": "python3"
  },
  "language_info": {
   "codemirror_mode": {
    "name": "ipython",
    "version": 3
   },
   "file_extension": ".py",
   "mimetype": "text/x-python",
   "name": "python",
   "nbconvert_exporter": "python",
   "pygments_lexer": "ipython3",
   "version": "3.7.0"
  }
 },
 "nbformat": 4,
 "nbformat_minor": 2
}

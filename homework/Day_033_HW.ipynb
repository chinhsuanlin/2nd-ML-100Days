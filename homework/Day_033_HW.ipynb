{
 "cells": [
  {
   "cell_type": "markdown",
   "metadata": {},
   "source": [
    "## 練習時間"
   ]
  },
  {
   "cell_type": "markdown",
   "metadata": {},
   "source": [
    "請觀看李宏毅教授以神奇寶貝進化 CP 值預測的範例，解說何謂機器學習與過擬合。並回答以下問題"
   ]
  },
  {
   "cell_type": "markdown",
   "metadata": {},
   "source": [
    "[youtube](https://www.youtube.com/watch?v=fegAeph9UaA)"
   ]
  },
  {
   "cell_type": "markdown",
   "metadata": {},
   "source": [
    "### 1. 模型的泛化能力 (generalization) 是指什麼？ \n",
    "### 2. 分類問題與回歸問題分別可用的目標函數有哪些？"
   ]
  },
  {
   "cell_type": "code",
   "execution_count": null,
   "metadata": {},
   "outputs": [],
   "source": [
    "'''控制參數w使之越小時，代表越平滑，亦即當輸入有變化時，輸出較不敏感\n",
    "當lambda越大時，越希望fuction平滑，但function不能太平滑如一條水平線，它會使結果沒有用\n",
    "b是不用調整的，因b跟function的平滑程度不相干\n",
    "'''\n",
    "泛化能力是指機器學習算法對新樣本的適應能力，簡而言之是在原有的數據集上添加新的數據集，\n",
    "通過訓練輸出一個合理的結果。學習的目的是學到隱含在數據背後的規律，\n",
    "對具有同一規律的學習集以外的數據，經過訓練的網絡也能給出合適的輸出，該能力稱為泛化能力\n",
    "\n",
    "回歸常用的損失函數: \n",
    "1.均方誤差(Mean square error，MSE)\n",
    "2.平均絕對值誤差(Mean absolute error，MAE)\n",
    "分類問題常用的損失函數:\n",
    "1.交叉熵(cross-entropy)。"
   ]
  }
 ],
 "metadata": {
  "kernelspec": {
   "display_name": "Python 3",
   "language": "python",
   "name": "python3"
  },
  "language_info": {
   "codemirror_mode": {
    "name": "ipython",
    "version": 3
   },
   "file_extension": ".py",
   "mimetype": "text/x-python",
   "name": "python",
   "nbconvert_exporter": "python",
   "pygments_lexer": "ipython3",
   "version": "3.7.0"
  }
 },
 "nbformat": 4,
 "nbformat_minor": 2
}

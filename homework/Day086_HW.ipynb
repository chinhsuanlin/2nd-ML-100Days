{
 "cells": [
  {
   "cell_type": "markdown",
   "metadata": {},
   "source": [
    "## Work\n",
    "1. 試比較 save_best_only 與否的差異\n",
    "2. 請僅存入將 save_weights_only 設定為 True, 並嘗試 reset ipynb 並將模型與權重重新建回並預測 x_test"
   ]
  },
  {
   "cell_type": "code",
   "execution_count": 1,
   "metadata": {},
   "outputs": [
    {
     "name": "stderr",
     "output_type": "stream",
     "text": [
      "Using TensorFlow backend.\n"
     ]
    }
   ],
   "source": [
    "import os\n",
    "import keras\n",
    "\n",
    "# Disable GPU\n",
    "os.environ[\"CUDA_VISIBLE_DEVICES\"] = \"\""
   ]
  },
  {
   "cell_type": "code",
   "execution_count": 2,
   "metadata": {},
   "outputs": [],
   "source": [
    "train, test = keras.datasets.cifar10.load_data()"
   ]
  },
  {
   "cell_type": "code",
   "execution_count": 3,
   "metadata": {},
   "outputs": [],
   "source": [
    "## 資料前處理\n",
    "def preproc_x(x, flatten=True):\n",
    "    x = x / 255.\n",
    "    if flatten:\n",
    "        x = x.reshape((len(x), -1))\n",
    "    return x\n",
    "\n",
    "def preproc_y(y, num_classes=10):\n",
    "    if y.shape[-1] == 1:\n",
    "        y = keras.utils.to_categorical(y, num_classes)\n",
    "    return y    "
   ]
  },
  {
   "cell_type": "code",
   "execution_count": 4,
   "metadata": {},
   "outputs": [],
   "source": [
    "x_train, y_train = train\n",
    "x_test, y_test = test\n",
    "\n",
    "# Preproc the inputs\n",
    "x_train = preproc_x(x_train)\n",
    "x_test = preproc_x(x_test)\n",
    "\n",
    "# Preprc the outputs\n",
    "y_train = preproc_y(y_train)\n",
    "y_test = preproc_y(y_test)"
   ]
  },
  {
   "cell_type": "code",
   "execution_count": 5,
   "metadata": {},
   "outputs": [],
   "source": [
    "from keras.layers import BatchNormalization\n",
    "\n",
    "\"\"\"\n",
    "建立神經網路，並加入 BN layer\n",
    "\"\"\"\n",
    "def build_mlp(input_shape, output_units=10, num_neurons=[512, 256, 128]):\n",
    "    input_layer = keras.layers.Input(input_shape)\n",
    "    \n",
    "    for i, n_units in enumerate(num_neurons):\n",
    "        if i == 0:\n",
    "            x = keras.layers.Dense(units=n_units, \n",
    "                                   activation=\"relu\", \n",
    "                                   name=\"hidden_layer\"+str(i+1))(input_layer)\n",
    "            x = BatchNormalization()(x)\n",
    "        else:\n",
    "            x = keras.layers.Dense(units=n_units, \n",
    "                                   activation=\"relu\", \n",
    "                                   name=\"hidden_layer\"+str(i+1))(x)\n",
    "            x = BatchNormalization()(x)\n",
    "    \n",
    "    out = keras.layers.Dense(units=output_units, activation=\"softmax\", name=\"output\")(x)\n",
    "    \n",
    "    model = keras.models.Model(inputs=[input_layer], outputs=[out])\n",
    "    return model"
   ]
  },
  {
   "cell_type": "code",
   "execution_count": 6,
   "metadata": {},
   "outputs": [],
   "source": [
    "\"\"\"Code Here\n",
    "設定超參數\n",
    "\"\"\"\n",
    "LEARNING_RATE = 1e-3\n",
    "EPOCHS = 50\n",
    "BATCH_SIZE = 1024\n",
    "MOMENTUM = 0.95"
   ]
  },
  {
   "cell_type": "code",
   "execution_count": 7,
   "metadata": {},
   "outputs": [],
   "source": [
    "\"\"\"\n",
    "# 載入 Callbacks, 並將監控目標設為 validation loss, 且只存最佳參數時的模型\n",
    "\"\"\"\n",
    "from keras.callbacks import ModelCheckpoint\n",
    "\n",
    "model_ckpt = ModelCheckpoint(filepath=\"./tmp.h5\", \n",
    "                             monitor=\"val_loss\", \n",
    "                             save_best_only=True)"
   ]
  },
  {
   "cell_type": "code",
   "execution_count": 8,
   "metadata": {
    "scrolled": true
   },
   "outputs": [
    {
     "name": "stdout",
     "output_type": "stream",
     "text": [
      "WARNING:tensorflow:From C:\\Users\\user\\Anaconda3\\lib\\site-packages\\tensorflow\\python\\framework\\op_def_library.py:263: colocate_with (from tensorflow.python.framework.ops) is deprecated and will be removed in a future version.\n",
      "Instructions for updating:\n",
      "Colocations handled automatically by placer.\n",
      "_________________________________________________________________\n",
      "Layer (type)                 Output Shape              Param #   \n",
      "=================================================================\n",
      "input_1 (InputLayer)         (None, 3072)              0         \n",
      "_________________________________________________________________\n",
      "hidden_layer1 (Dense)        (None, 512)               1573376   \n",
      "_________________________________________________________________\n",
      "batch_normalization_1 (Batch (None, 512)               2048      \n",
      "_________________________________________________________________\n",
      "hidden_layer2 (Dense)        (None, 256)               131328    \n",
      "_________________________________________________________________\n",
      "batch_normalization_2 (Batch (None, 256)               1024      \n",
      "_________________________________________________________________\n",
      "hidden_layer3 (Dense)        (None, 128)               32896     \n",
      "_________________________________________________________________\n",
      "batch_normalization_3 (Batch (None, 128)               512       \n",
      "_________________________________________________________________\n",
      "output (Dense)               (None, 10)                1290      \n",
      "=================================================================\n",
      "Total params: 1,742,474\n",
      "Trainable params: 1,740,682\n",
      "Non-trainable params: 1,792\n",
      "_________________________________________________________________\n",
      "WARNING:tensorflow:From C:\\Users\\user\\Anaconda3\\lib\\site-packages\\tensorflow\\python\\ops\\math_ops.py:3066: to_int32 (from tensorflow.python.ops.math_ops) is deprecated and will be removed in a future version.\n",
      "Instructions for updating:\n",
      "Use tf.cast instead.\n",
      "Train on 50000 samples, validate on 10000 samples\n",
      "Epoch 1/50\n",
      "50000/50000 [==============================] - 5s 91us/step - loss: 2.2146 - acc: 0.2657 - val_loss: 2.1343 - val_acc: 0.3200\n",
      "Epoch 2/50\n",
      "50000/50000 [==============================] - 4s 78us/step - loss: 1.7426 - acc: 0.3956 - val_loss: 1.7993 - val_acc: 0.3834\n",
      "Epoch 3/50\n",
      "50000/50000 [==============================] - 4s 78us/step - loss: 1.6162 - acc: 0.4361 - val_loss: 1.6850 - val_acc: 0.4160\n",
      "Epoch 4/50\n",
      "50000/50000 [==============================] - 4s 81us/step - loss: 1.5429 - acc: 0.4636 - val_loss: 1.6274 - val_acc: 0.4379\n",
      "Epoch 5/50\n",
      "50000/50000 [==============================] - 4s 81us/step - loss: 1.4853 - acc: 0.4823 - val_loss: 1.5835 - val_acc: 0.4469\n",
      "Epoch 6/50\n",
      "50000/50000 [==============================] - 4s 81us/step - loss: 1.4397 - acc: 0.4988 - val_loss: 1.5639 - val_acc: 0.4556\n",
      "Epoch 7/50\n",
      "50000/50000 [==============================] - 4s 80us/step - loss: 1.3993 - acc: 0.5124 - val_loss: 1.5429 - val_acc: 0.4528\n",
      "Epoch 8/50\n",
      "50000/50000 [==============================] - 4s 81us/step - loss: 1.3637 - acc: 0.5249 - val_loss: 1.5354 - val_acc: 0.4576\n",
      "Epoch 9/50\n",
      "50000/50000 [==============================] - 4s 81us/step - loss: 1.3319 - acc: 0.5349 - val_loss: 1.5206 - val_acc: 0.4670\n",
      "Epoch 10/50\n",
      "50000/50000 [==============================] - 4s 81us/step - loss: 1.3025 - acc: 0.5478 - val_loss: 1.4922 - val_acc: 0.4752\n",
      "Epoch 11/50\n",
      "50000/50000 [==============================] - 4s 81us/step - loss: 1.2738 - acc: 0.5590 - val_loss: 1.4895 - val_acc: 0.4763\n",
      "Epoch 12/50\n",
      "50000/50000 [==============================] - 4s 82us/step - loss: 1.2474 - acc: 0.5685 - val_loss: 1.4759 - val_acc: 0.4806\n",
      "Epoch 13/50\n",
      "50000/50000 [==============================] - 4s 82us/step - loss: 1.2215 - acc: 0.5781 - val_loss: 1.4848 - val_acc: 0.4775\n",
      "Epoch 14/50\n",
      "50000/50000 [==============================] - 4s 82us/step - loss: 1.1974 - acc: 0.5865 - val_loss: 1.4731 - val_acc: 0.4846\n",
      "Epoch 15/50\n",
      "50000/50000 [==============================] - 4s 83us/step - loss: 1.1724 - acc: 0.5974 - val_loss: 1.4705 - val_acc: 0.4842\n",
      "Epoch 16/50\n",
      "50000/50000 [==============================] - 4s 83us/step - loss: 1.1502 - acc: 0.6058 - val_loss: 1.4740 - val_acc: 0.4879\n",
      "Epoch 17/50\n",
      "50000/50000 [==============================] - 4s 83us/step - loss: 1.1263 - acc: 0.6153 - val_loss: 1.4544 - val_acc: 0.4890\n",
      "Epoch 18/50\n",
      "50000/50000 [==============================] - 4s 84us/step - loss: 1.1047 - acc: 0.6230 - val_loss: 1.4537 - val_acc: 0.4898\n",
      "Epoch 19/50\n",
      "50000/50000 [==============================] - 4s 83us/step - loss: 1.0829 - acc: 0.6311 - val_loss: 1.4798 - val_acc: 0.4857\n",
      "Epoch 20/50\n",
      "50000/50000 [==============================] - 4s 83us/step - loss: 1.0605 - acc: 0.6387 - val_loss: 1.4572 - val_acc: 0.4914\n",
      "Epoch 21/50\n",
      "50000/50000 [==============================] - 4s 83us/step - loss: 1.0388 - acc: 0.6467 - val_loss: 1.4552 - val_acc: 0.4939\n",
      "Epoch 22/50\n",
      "50000/50000 [==============================] - 4s 83us/step - loss: 1.0186 - acc: 0.6563 - val_loss: 1.4654 - val_acc: 0.4915\n",
      "Epoch 23/50\n",
      "50000/50000 [==============================] - 4s 84us/step - loss: 0.9960 - acc: 0.6624 - val_loss: 1.4588 - val_acc: 0.4954\n",
      "Epoch 24/50\n",
      "50000/50000 [==============================] - 4s 84us/step - loss: 0.9760 - acc: 0.6719 - val_loss: 1.4798 - val_acc: 0.4924\n",
      "Epoch 25/50\n",
      "50000/50000 [==============================] - 4s 84us/step - loss: 0.9575 - acc: 0.6792 - val_loss: 1.4574 - val_acc: 0.5017\n",
      "Epoch 26/50\n",
      "50000/50000 [==============================] - 4s 84us/step - loss: 0.9345 - acc: 0.6874 - val_loss: 1.4865 - val_acc: 0.4902\n",
      "Epoch 27/50\n",
      "50000/50000 [==============================] - 4s 85us/step - loss: 0.9153 - acc: 0.6970 - val_loss: 1.4797 - val_acc: 0.4934\n",
      "Epoch 28/50\n",
      "50000/50000 [==============================] - 4s 84us/step - loss: 0.8961 - acc: 0.7024 - val_loss: 1.4767 - val_acc: 0.4961\n",
      "Epoch 29/50\n",
      "50000/50000 [==============================] - 4s 84us/step - loss: 0.8767 - acc: 0.7096 - val_loss: 1.4812 - val_acc: 0.4971\n",
      "Epoch 30/50\n",
      "50000/50000 [==============================] - 4s 84us/step - loss: 0.8561 - acc: 0.7181 - val_loss: 1.4920 - val_acc: 0.5004\n",
      "Epoch 31/50\n",
      "50000/50000 [==============================] - 4s 85us/step - loss: 0.8357 - acc: 0.7276 - val_loss: 1.5026 - val_acc: 0.4957\n",
      "Epoch 32/50\n",
      "50000/50000 [==============================] - 4s 84us/step - loss: 0.8188 - acc: 0.7329 - val_loss: 1.5134 - val_acc: 0.4961\n",
      "Epoch 33/50\n",
      "50000/50000 [==============================] - 4s 84us/step - loss: 0.7983 - acc: 0.7409 - val_loss: 1.5200 - val_acc: 0.4942\n",
      "Epoch 34/50\n",
      "50000/50000 [==============================] - 4s 85us/step - loss: 0.7804 - acc: 0.7484 - val_loss: 1.5179 - val_acc: 0.4983\n",
      "Epoch 35/50\n",
      "50000/50000 [==============================] - 4s 84us/step - loss: 0.7610 - acc: 0.7567 - val_loss: 1.5304 - val_acc: 0.4949\n",
      "Epoch 36/50\n",
      "50000/50000 [==============================] - 4s 85us/step - loss: 0.7413 - acc: 0.7632 - val_loss: 1.5360 - val_acc: 0.4965\n",
      "Epoch 37/50\n",
      "50000/50000 [==============================] - 4s 85us/step - loss: 0.7232 - acc: 0.7709 - val_loss: 1.5348 - val_acc: 0.4973\n",
      "Epoch 38/50\n",
      "50000/50000 [==============================] - 4s 85us/step - loss: 0.7031 - acc: 0.7795 - val_loss: 1.5535 - val_acc: 0.4952\n",
      "Epoch 39/50\n",
      "50000/50000 [==============================] - 4s 87us/step - loss: 0.6855 - acc: 0.7857 - val_loss: 1.5551 - val_acc: 0.4946\n",
      "Epoch 40/50\n",
      "50000/50000 [==============================] - 4s 85us/step - loss: 0.6684 - acc: 0.7937 - val_loss: 1.5637 - val_acc: 0.4988\n",
      "Epoch 41/50\n",
      "50000/50000 [==============================] - 4s 85us/step - loss: 0.6495 - acc: 0.8008 - val_loss: 1.5778 - val_acc: 0.4964\n",
      "Epoch 42/50\n",
      "50000/50000 [==============================] - 4s 86us/step - loss: 0.6305 - acc: 0.8074 - val_loss: 1.6025 - val_acc: 0.4945\n",
      "Epoch 43/50\n",
      "50000/50000 [==============================] - 4s 85us/step - loss: 0.6151 - acc: 0.8126 - val_loss: 1.5869 - val_acc: 0.4932\n",
      "Epoch 44/50\n",
      "50000/50000 [==============================] - 4s 85us/step - loss: 0.5968 - acc: 0.8209 - val_loss: 1.6031 - val_acc: 0.4891\n",
      "Epoch 45/50\n",
      "50000/50000 [==============================] - 4s 85us/step - loss: 0.5791 - acc: 0.8280 - val_loss: 1.6276 - val_acc: 0.4952\n"
     ]
    },
    {
     "name": "stdout",
     "output_type": "stream",
     "text": [
      "Epoch 46/50\n",
      "50000/50000 [==============================] - 4s 86us/step - loss: 0.5628 - acc: 0.8342 - val_loss: 1.6285 - val_acc: 0.4941\n",
      "Epoch 47/50\n",
      "50000/50000 [==============================] - 4s 85us/step - loss: 0.5452 - acc: 0.8408 - val_loss: 1.6259 - val_acc: 0.4986\n",
      "Epoch 48/50\n",
      "50000/50000 [==============================] - 4s 85us/step - loss: 0.5279 - acc: 0.8481 - val_loss: 1.6741 - val_acc: 0.4885\n",
      "Epoch 49/50\n",
      "50000/50000 [==============================] - 4s 85us/step - loss: 0.5123 - acc: 0.8545 - val_loss: 1.6625 - val_acc: 0.4961\n",
      "Epoch 50/50\n",
      "50000/50000 [==============================] - 4s 85us/step - loss: 0.4968 - acc: 0.8594 - val_loss: 1.6803 - val_acc: 0.4888\n",
      "10000/10000 [==============================] - 1s 64us/step\n"
     ]
    }
   ],
   "source": [
    "# 載入 Callbacks\n",
    "\"\"\"Code Here\n",
    "設定 callbacks: model checkpoint\n",
    "\"\"\"\n",
    "\n",
    "model = build_mlp(input_shape=x_train.shape[1:])\n",
    "model.summary()\n",
    "optimizer = keras.optimizers.SGD(lr=LEARNING_RATE, nesterov=True, momentum=MOMENTUM)\n",
    "model.compile(loss=\"categorical_crossentropy\", metrics=[\"accuracy\"], optimizer=optimizer)\n",
    "\n",
    "model.fit(x_train, y_train, \n",
    "          epochs=EPOCHS, \n",
    "          batch_size=BATCH_SIZE, \n",
    "          validation_data=(x_test, y_test), \n",
    "          shuffle=True,\n",
    "          callbacks=[model_ckpt]\n",
    "         )\n",
    "\n",
    "# Collect results\n",
    "train_loss = model.history.history[\"loss\"]\n",
    "valid_loss = model.history.history[\"val_loss\"]\n",
    "train_acc = model.history.history[\"acc\"]\n",
    "valid_acc = model.history.history[\"val_acc\"]\n",
    "\n",
    "# Load back\n",
    "model = keras.models.load_model(\"./tmp.h5\")\n",
    "loss_loadback, acc_loadback = model.evaluate(x_test, y_test)\n",
    "'''\n",
    "本函数返回一个测试误差的标量值（如果模型没有其他评价指标），或一个标量的list（如果模型还有其他的评价指标）\n",
    "'''"
   ]
  },
  {
   "cell_type": "code",
   "execution_count": 10,
   "metadata": {
    "scrolled": true
   },
   "outputs": [
    {
     "data": {
      "image/png": "[encoded data removed]",
      "text/plain": [
       "<Figure size 432x288 with 1 Axes>"
      ]
     },
     "metadata": {
      "needs_background": "light"
     },
     "output_type": "display_data"
    },
    {
     "data": {
      "image/png": "[encoded data removed]",
      "text/plain": [
       "<Figure size 432x288 with 1 Axes>"
      ]
     },
     "metadata": {
      "needs_background": "light"
     },
     "output_type": "display_data"
    }
   ],
   "source": [
    "import matplotlib.pyplot as plt\n",
    "%matplotlib inline\n",
    "\n",
    "plt.plot(range(len(train_loss)), train_loss, label=\"train loss\")\n",
    "plt.plot(range(len(valid_loss)), valid_loss, label=\"valid loss\")\n",
    "plt.hlines(y=loss_loadback, xmin=0, xmax=len(train_loss), colors='r', linestyles='--')\n",
    "plt.legend()\n",
    "plt.title(\"Loss\")\n",
    "plt.show()\n",
    "\n",
    "plt.plot(range(len(train_acc)), train_acc, label=\"train accuracy\")\n",
    "plt.plot(range(len(valid_acc)), valid_acc, label=\"valid accuracy\")\n",
    "plt.hlines(y=acc_loadback, xmin=0, xmax=len(train_loss), colors='r', linestyles='--')\n",
    "plt.legend()\n",
    "plt.title(\"Accuracy\")\n",
    "plt.show()"
   ]
  },
  {
   "cell_type": "code",
   "execution_count": 11,
   "metadata": {},
   "outputs": [
    {
     "data": {
      "text/plain": [
       "1.4537489683151246"
      ]
     },
     "execution_count": 11,
     "metadata": {},
     "output_type": "execute_result"
    }
   ],
   "source": [
    "loss_loadback"
   ]
  },
  {
   "cell_type": "code",
   "execution_count": 12,
   "metadata": {},
   "outputs": [
    {
     "data": {
      "text/plain": [
       "['loss', 'acc']"
      ]
     },
     "execution_count": 12,
     "metadata": {},
     "output_type": "execute_result"
    }
   ],
   "source": [
    "model.metrics_names"
   ]
  }
 ],
 "metadata": {
  "kernelspec": {
   "display_name": "Python 3",
   "language": "python",
   "name": "python3"
  },
  "language_info": {
   "codemirror_mode": {
    "name": "ipython",
    "version": 3
   },
   "file_extension": ".py",
   "mimetype": "text/x-python",
   "name": "python",
   "nbconvert_exporter": "python",
   "pygments_lexer": "ipython3",
   "version": "3.7.0"
  }
 },
 "nbformat": 4,
 "nbformat_minor": 2
}

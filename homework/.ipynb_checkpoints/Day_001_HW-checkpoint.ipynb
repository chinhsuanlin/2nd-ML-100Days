{
 "cells": [
  {
   "cell_type": "markdown",
   "metadata": {},
   "source": [
    "## 練習時間\n",
    "#### 請寫一個函式用來計算 Mean Square Error\n",
    "$ MSE = \\frac{1}{n}\\sum_{i=1}^{n}{(Y_i - \\hat{Y}_i)^2} $\n",
    "\n",
    "### Hint: [如何取平方](https://googoodesign.gitbooks.io/-ezpython/unit-1.html)"
   ]
  },
  {
   "cell_type": "code",
   "execution_count": 2,
   "metadata": {},
   "outputs": [],
   "source": [
    "import numpy as np\n",
    "import matplotlib.pyplot as plt"
   ]
  },
  {
   "cell_type": "code",
   "execution_count": 29,
   "metadata": {},
   "outputs": [],
   "source": [
    "def mean_squared_error(y,y_hat):\n",
    "    temp = (y-y_hat)**2\n",
    "    temp = temp.sum()\n",
    "    temp = temp/y.shape[0]\n",
    "    return temp\n",
    "    #xx = (((y-y_hat)**2).sum())/y.shape[0]\n",
    "#Mean Absolute Error (MAE) is the average vertical distance between each point and the identity line.\n",
    "def mean_absolute_error(y,y_hat):\n",
    "    temp2 = (y-y_hat)\n",
    "    temp2 = temp2.sum()\n",
    "    temp2 = temp2/y.shape[0]\n",
    "    return temp2\n"
   ]
  },
  {
   "cell_type": "code",
   "execution_count": 30,
   "metadata": {},
   "outputs": [
    {
     "data": {
      "image/png": "[encoded data removed]",
      "text/plain": [
       "<Figure size 432x288 with 1 Axes>"
      ]
     },
     "metadata": {
      "needs_background": "light"
     },
     "output_type": "display_data"
    }
   ],
   "source": [
    "w = 3\n",
    "b = 0.5\n",
    "\n",
    "x_lin = np.linspace(0, 100, 101)\n",
    "\n",
    "y = (x_lin + np.random.randn(101) * 5) * w + b#取100個點\n",
    "\n",
    "plt.plot(x_lin, y, 'b.', label = 'data points')\n",
    "plt.title(\"Assume we have data points\")\n",
    "plt.legend(loc = 2)\n",
    "plt.show()"
   ]
  },
  {
   "cell_type": "code",
   "execution_count": 31,
   "metadata": {},
   "outputs": [
    {
     "data": {
      "image/png": "[encoded data removed]",
      "text/plain": [
       "<Figure size 432x288 with 1 Axes>"
      ]
     },
     "metadata": {
      "needs_background": "light"
     },
     "output_type": "display_data"
    }
   ],
   "source": [
    "y_hat = x_lin * w + b\n",
    "plt.plot(x_lin, y, 'b.', label = 'data')#data\n",
    "plt.plot(x_lin, y_hat, 'r-', label = 'prediction')#線\n",
    "plt.title(\"Assume we have data points (And the prediction)\")\n",
    "plt.legend(loc = 2)\n",
    "plt.show()"
   ]
  },
  {
   "cell_type": "code",
   "execution_count": 32,
   "metadata": {},
   "outputs": [
    {
     "name": "stdout",
     "output_type": "stream",
     "text": [
      "The Mean squared error is 244.459\n",
      "The Mean absolute error is 2.532\n"
     ]
    }
   ],
   "source": [
    "# 執行 Function, 確認有沒有正常執行\n",
    "MSE = mean_squared_error(y, y_hat)\n",
    "MAE = mean_absolute_error(y, y_hat)\n",
    "print(\"The Mean squared error is %.3f\" % (MSE))\n",
    "print(\"The Mean absolute error is %.3f\" % (MAE))"
   ]
  },
  {
   "cell_type": "code",
   "execution_count": 35,
   "metadata": {},
   "outputs": [
    {
     "data": {
      "text/plain": [
       "244.45913690604235"
      ]
     },
     "execution_count": 35,
     "metadata": {},
     "output_type": "execute_result"
    }
   ],
   "source": [
    "\n"
   ]
  },
  {
   "cell_type": "code",
   "execution_count": 12,
   "metadata": {},
   "outputs": [
    {
     "name": "stdout",
     "output_type": "stream",
     "text": [
      "[ 29.75004209 -12.62584838  14.1762556  -14.93973745  18.53450523\n",
      "  26.79012212 -16.87761334  10.17510248 -10.06635596  15.29673064\n",
      "  11.66478614  -6.17481942 -22.01659842 -11.44105313   8.14033281\n",
      "   4.04129506 -11.17783675 -17.85613157  11.73205564  23.03793107\n",
      "  -5.45332464  -6.57252131   2.62215744   6.01621494  -4.05282348\n",
      "  -1.82634365  26.16786059  -2.42502718   8.27081083  -1.66396794\n",
      "  -2.65223233  11.90620627  -5.10816809  -5.02769493 -14.70351571\n",
      "  -9.66012172  -6.10356203   5.99419427   3.56100759 -13.75441694\n",
      " -21.002226   -12.03348417  27.43980245 -21.83907986   2.96824416\n",
      " -11.84703025   8.20065863   3.61300135   1.10479183 -11.58229217\n",
      "  -8.0511294  -15.99844064  13.78980891   2.48304555  -9.35292218\n",
      "   0.91684969   7.549783   -26.82024436   6.07675418  16.13198636\n",
      "   0.87362308 -23.64807826  -7.14900866 -20.79818495  18.31589189\n",
      "   9.71424649 -15.135253    -7.91398256  -8.18688793  -3.78261838\n",
      " -24.41409007 -12.71443917  -5.19412853   8.70976968  -8.16043907\n",
      "  19.28517085   0.40463464 -17.33959006 -14.30318712 -11.831234\n",
      " -13.84993009   7.74765925  25.54684106   5.53456989  -9.28569503\n",
      "  -8.334899   -19.7778821    5.28067366  23.17689113  12.15772461\n",
      "   8.01119124   1.90438741   2.88802564   8.59213441   0.16341747\n",
      "  31.88596338  -6.89357976  -8.42666902  -0.03871484 -20.130699\n",
      " -21.32131815]\n"
     ]
    }
   ],
   "source": []
  },
  {
   "cell_type": "code",
   "execution_count": 17,
   "metadata": {},
   "outputs": [
    {
     "data": {
      "text/plain": [
       "18910.928787085337"
      ]
     },
     "execution_count": 17,
     "metadata": {},
     "output_type": "execute_result"
    }
   ],
   "source": []
  },
  {
   "cell_type": "code",
   "execution_count": 27,
   "metadata": {},
   "outputs": [
    {
     "data": {
      "text/plain": [
       "101"
      ]
     },
     "execution_count": 27,
     "metadata": {},
     "output_type": "execute_result"
    }
   ],
   "source": []
  },
  {
   "cell_type": "code",
   "execution_count": null,
   "metadata": {},
   "outputs": [],
   "source": []
  }
 ],
 "metadata": {
  "anaconda-cloud": {},
  "kernelspec": {
   "display_name": "Python 3",
   "language": "python",
   "name": "python3"
  },
  "language_info": {
   "codemirror_mode": {
    "name": "ipython",
    "version": 3
   },
   "file_extension": ".py",
   "mimetype": "text/x-python",
   "name": "python",
   "nbconvert_exporter": "python",
   "pygments_lexer": "ipython3",
   "version": "3.7.0"
  }
 },
 "nbformat": 4,
 "nbformat_minor": 1
}

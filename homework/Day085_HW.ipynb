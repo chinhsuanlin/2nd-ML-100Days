{
 "cells": [
  {
   "cell_type": "markdown",
   "metadata": {},
   "source": [
    "## Work\n",
    "1. 試改變 monitor \"Validation Accuracy\" 並比較結果\n",
    "2. 調整 earlystop 的等待次數至 10, 25 並比較結果"
   ]
  },
  {
   "cell_type": "code",
   "execution_count": 1,
   "metadata": {},
   "outputs": [
    {
     "name": "stderr",
     "output_type": "stream",
     "text": [
      "Using TensorFlow backend.\n"
     ]
    }
   ],
   "source": [
    "import os\n",
    "import keras\n",
    "import matplotlib.pyplot as plt\n",
    "%matplotlib inline\n",
    "\n",
    "\n",
    "# Disable GPU\n",
    "os.environ[\"CUDA_VISIBLE_DEVICES\"] = \"\""
   ]
  },
  {
   "cell_type": "code",
   "execution_count": 2,
   "metadata": {},
   "outputs": [],
   "source": [
    "train, test = keras.datasets.cifar10.load_data()"
   ]
  },
  {
   "cell_type": "code",
   "execution_count": 3,
   "metadata": {},
   "outputs": [],
   "source": [
    "## 資料前處理\n",
    "def preproc_x(x, flatten=True):\n",
    "    x = x / 255.\n",
    "    if flatten:\n",
    "        x = x.reshape((len(x), -1))\n",
    "    return x\n",
    "\n",
    "def preproc_y(y, num_classes=10):\n",
    "    if y.shape[-1] == 1:\n",
    "        y = keras.utils.to_categorical(y, num_classes)\n",
    "    return y    "
   ]
  },
  {
   "cell_type": "code",
   "execution_count": 4,
   "metadata": {},
   "outputs": [],
   "source": [
    "x_train, y_train = train\n",
    "x_test, y_test = test\n",
    "\n",
    "# Preproc the inputs\n",
    "x_train = preproc_x(x_train)\n",
    "x_test = preproc_x(x_test)\n",
    "\n",
    "# Preprc the outputs\n",
    "y_train = preproc_y(y_train)\n",
    "y_test = preproc_y(y_test)"
   ]
  },
  {
   "cell_type": "code",
   "execution_count": 5,
   "metadata": {},
   "outputs": [],
   "source": [
    "from keras.layers import BatchNormalization\n",
    "\n",
    "\"\"\"\n",
    "建立神經網路，並加入 BN layer\n",
    "\"\"\"\n",
    "def build_mlp(input_shape, output_units=10, num_neurons=[512, 256, 128]):\n",
    "    input_layer = keras.layers.Input(input_shape)\n",
    "    \n",
    "    for i, n_units in enumerate(num_neurons):\n",
    "        if i == 0:\n",
    "            x = keras.layers.Dense(units=n_units, \n",
    "                                   activation=\"relu\", \n",
    "                                   name=\"hidden_layer\"+str(i+1))(input_layer)\n",
    "            x = BatchNormalization()(x)\n",
    "        else:\n",
    "            x = keras.layers.Dense(units=n_units, \n",
    "                                   activation=\"relu\", \n",
    "                                   name=\"hidden_layer\"+str(i+1))(x)\n",
    "            x = BatchNormalization()(x)\n",
    "    \n",
    "    out = keras.layers.Dense(units=output_units, activation=\"softmax\", name=\"output\")(x)\n",
    "    \n",
    "    model = keras.models.Model(inputs=[input_layer], outputs=[out])\n",
    "    return model"
   ]
  },
  {
   "cell_type": "code",
   "execution_count": 6,
   "metadata": {},
   "outputs": [],
   "source": [
    "## 超參數設定\n",
    "LEARNING_RATE = 1e-3\n",
    "EPOCHS = 50\n",
    "BATCH_SIZE = 1024\n",
    "MOMENTUM = 0.95"
   ]
  },
  {
   "cell_type": "code",
   "execution_count": 7,
   "metadata": {},
   "outputs": [],
   "source": [
    "\"\"\"\n",
    "# 載入 Callbacks, 並將 monitor 設定為監控 validation loss\n",
    "\"\"\"\n",
    "from keras.callbacks import EarlyStopping\n",
    "PATIENCE = [10,25]\n"
   ]
  },
  {
   "cell_type": "code",
   "execution_count": 10,
   "metadata": {},
   "outputs": [
    {
     "name": "stdout",
     "output_type": "stream",
     "text": [
      "Experiment with pa = 10.000000\n",
      "_________________________________________________________________\n",
      "Layer (type)                 Output Shape              Param #   \n",
      "=================================================================\n",
      "input_1 (InputLayer)         (None, 3072)              0         \n",
      "_________________________________________________________________\n",
      "hidden_layer1 (Dense)        (None, 512)               1573376   \n",
      "_________________________________________________________________\n",
      "batch_normalization_1 (Batch (None, 512)               2048      \n",
      "_________________________________________________________________\n",
      "hidden_layer2 (Dense)        (None, 256)               131328    \n",
      "_________________________________________________________________\n",
      "batch_normalization_2 (Batch (None, 256)               1024      \n",
      "_________________________________________________________________\n",
      "hidden_layer3 (Dense)        (None, 128)               32896     \n",
      "_________________________________________________________________\n",
      "batch_normalization_3 (Batch (None, 128)               512       \n",
      "_________________________________________________________________\n",
      "output (Dense)               (None, 10)                1290      \n",
      "=================================================================\n",
      "Total params: 1,742,474\n",
      "Trainable params: 1,740,682\n",
      "Non-trainable params: 1,792\n",
      "_________________________________________________________________\n",
      "WARNING:tensorflow:From C:\\Users\\user\\Anaconda3\\lib\\site-packages\\tensorflow\\python\\ops\\math_ops.py:3066: to_int32 (from tensorflow.python.ops.math_ops) is deprecated and will be removed in a future version.\n",
      "Instructions for updating:\n",
      "Use tf.cast instead.\n",
      "Train on 50000 samples, validate on 10000 samples\n",
      "Epoch 1/50\n",
      "50000/50000 [==============================] - 13s 252us/step - loss: 1.7681 - acc: 0.3846 - val_loss: 1.7199 - val_acc: 0.3957\n",
      "Epoch 2/50\n",
      "50000/50000 [==============================] - 9s 190us/step - loss: 1.4950 - acc: 0.4731 - val_loss: 1.6080 - val_acc: 0.4254\n",
      "Epoch 3/50\n",
      "50000/50000 [==============================] - 8s 150us/step - loss: 1.3972 - acc: 0.5069 - val_loss: 1.7279 - val_acc: 0.3918\n",
      "Epoch 4/50\n",
      "50000/50000 [==============================] - 7s 135us/step - loss: 1.3146 - acc: 0.5395 - val_loss: 1.8606 - val_acc: 0.3807\n",
      "Epoch 5/50\n",
      "50000/50000 [==============================] - 9s 178us/step - loss: 1.2516 - acc: 0.5586 - val_loss: 2.0065 - val_acc: 0.3400\n",
      "Epoch 6/50\n",
      "50000/50000 [==============================] - 9s 179us/step - loss: 1.2030 - acc: 0.5773 - val_loss: 2.1683 - val_acc: 0.3206\n",
      "Epoch 7/50\n",
      "50000/50000 [==============================] - 9s 178us/step - loss: 1.1469 - acc: 0.5966 - val_loss: 1.7653 - val_acc: 0.3933\n",
      "Epoch 8/50\n",
      "50000/50000 [==============================] - 9s 179us/step - loss: 1.1012 - acc: 0.6133 - val_loss: 1.6800 - val_acc: 0.4134\n",
      "Epoch 9/50\n",
      "50000/50000 [==============================] - 9s 176us/step - loss: 1.0574 - acc: 0.6293 - val_loss: 1.6908 - val_acc: 0.4258\n",
      "Epoch 10/50\n",
      "50000/50000 [==============================] - 9s 179us/step - loss: 1.0136 - acc: 0.6436 - val_loss: 1.9866 - val_acc: 0.3498\n",
      "Epoch 11/50\n",
      "50000/50000 [==============================] - 9s 176us/step - loss: 0.9752 - acc: 0.6566 - val_loss: 2.0178 - val_acc: 0.3604\n",
      "Epoch 12/50\n",
      "50000/50000 [==============================] - 9s 181us/step - loss: 0.9375 - acc: 0.6699 - val_loss: 1.9582 - val_acc: 0.3673\n",
      "Epoch 00012: early stopping\n",
      "Experiment with pa = 25.000000\n",
      "_________________________________________________________________\n",
      "Layer (type)                 Output Shape              Param #   \n",
      "=================================================================\n",
      "input_1 (InputLayer)         (None, 3072)              0         \n",
      "_________________________________________________________________\n",
      "hidden_layer1 (Dense)        (None, 512)               1573376   \n",
      "_________________________________________________________________\n",
      "batch_normalization_1 (Batch (None, 512)               2048      \n",
      "_________________________________________________________________\n",
      "hidden_layer2 (Dense)        (None, 256)               131328    \n",
      "_________________________________________________________________\n",
      "batch_normalization_2 (Batch (None, 256)               1024      \n",
      "_________________________________________________________________\n",
      "hidden_layer3 (Dense)        (None, 128)               32896     \n",
      "_________________________________________________________________\n",
      "batch_normalization_3 (Batch (None, 128)               512       \n",
      "_________________________________________________________________\n",
      "output (Dense)               (None, 10)                1290      \n",
      "=================================================================\n",
      "Total params: 1,742,474\n",
      "Trainable params: 1,740,682\n",
      "Non-trainable params: 1,792\n",
      "_________________________________________________________________\n",
      "Train on 50000 samples, validate on 10000 samples\n",
      "Epoch 1/50\n",
      "50000/50000 [==============================] - 13s 253us/step - loss: 1.7539 - acc: 0.3894 - val_loss: 1.9605 - val_acc: 0.3378\n",
      "Epoch 2/50\n",
      "50000/50000 [==============================] - 9s 184us/step - loss: 1.4799 - acc: 0.4777 - val_loss: 1.7910 - val_acc: 0.3663\n",
      "Epoch 3/50\n",
      "50000/50000 [==============================] - 9s 181us/step - loss: 1.3769 - acc: 0.5131 - val_loss: 1.6778 - val_acc: 0.4114\n",
      "Epoch 4/50\n",
      "50000/50000 [==============================] - 9s 181us/step - loss: 1.2980 - acc: 0.5431 - val_loss: 1.9411 - val_acc: 0.3546\n",
      "Epoch 5/50\n",
      "50000/50000 [==============================] - 9s 181us/step - loss: 1.2377 - acc: 0.5644 - val_loss: 1.8840 - val_acc: 0.3567\n",
      "Epoch 6/50\n",
      "50000/50000 [==============================] - 9s 180us/step - loss: 1.1824 - acc: 0.5825 - val_loss: 1.9961 - val_acc: 0.3451\n",
      "Epoch 7/50\n",
      "50000/50000 [==============================] - 9s 180us/step - loss: 1.1263 - acc: 0.6036 - val_loss: 1.9198 - val_acc: 0.3710\n",
      "Epoch 8/50\n",
      "50000/50000 [==============================] - 9s 181us/step - loss: 1.0814 - acc: 0.6207 - val_loss: 2.1022 - val_acc: 0.3417\n",
      "Epoch 9/50\n",
      "50000/50000 [==============================] - 9s 180us/step - loss: 1.0373 - acc: 0.6349 - val_loss: 1.9207 - val_acc: 0.3667\n",
      "Epoch 10/50\n",
      "50000/50000 [==============================] - 9s 181us/step - loss: 0.9932 - acc: 0.6510 - val_loss: 2.0795 - val_acc: 0.3618\n",
      "Epoch 11/50\n",
      "50000/50000 [==============================] - 9s 180us/step - loss: 0.9503 - acc: 0.6665 - val_loss: 2.2033 - val_acc: 0.3415\n",
      "Epoch 12/50\n",
      "50000/50000 [==============================] - 9s 181us/step - loss: 0.9079 - acc: 0.6817 - val_loss: 1.8070 - val_acc: 0.3993\n",
      "Epoch 13/50\n",
      "50000/50000 [==============================] - 9s 179us/step - loss: 0.8737 - acc: 0.6945 - val_loss: 1.9342 - val_acc: 0.3892\n",
      "Epoch 14/50\n",
      "50000/50000 [==============================] - 9s 182us/step - loss: 0.8217 - acc: 0.7151 - val_loss: 2.0620 - val_acc: 0.3862\n",
      "Epoch 15/50\n",
      "50000/50000 [==============================] - 9s 186us/step - loss: 0.7896 - acc: 0.7263 - val_loss: 1.8706 - val_acc: 0.4126\n",
      "Epoch 16/50\n",
      "50000/50000 [==============================] - 9s 185us/step - loss: 0.7572 - acc: 0.7361 - val_loss: 2.0261 - val_acc: 0.3971\n",
      "Epoch 17/50\n",
      "50000/50000 [==============================] - 9s 182us/step - loss: 0.7287 - acc: 0.7465 - val_loss: 1.7571 - val_acc: 0.4476\n",
      "Epoch 18/50\n",
      "50000/50000 [==============================] - 9s 179us/step - loss: 0.6815 - acc: 0.7629 - val_loss: 2.3480 - val_acc: 0.3727\n",
      "Epoch 19/50\n",
      "50000/50000 [==============================] - 9s 181us/step - loss: 0.6564 - acc: 0.7741 - val_loss: 2.1704 - val_acc: 0.3988\n",
      "Epoch 20/50\n",
      "50000/50000 [==============================] - 9s 182us/step - loss: 0.6201 - acc: 0.7858 - val_loss: 2.1582 - val_acc: 0.4261\n",
      "Epoch 21/50\n",
      "50000/50000 [==============================] - 9s 182us/step - loss: 0.5883 - acc: 0.7960 - val_loss: 2.1785 - val_acc: 0.4084\n",
      "Epoch 22/50\n",
      "50000/50000 [==============================] - 9s 181us/step - loss: 0.5629 - acc: 0.8039 - val_loss: 2.4305 - val_acc: 0.3914\n",
      "Epoch 23/50\n",
      "50000/50000 [==============================] - 9s 179us/step - loss: 0.5376 - acc: 0.8132 - val_loss: 2.3419 - val_acc: 0.4057\n",
      "Epoch 24/50\n",
      "50000/50000 [==============================] - 9s 178us/step - loss: 0.4883 - acc: 0.8340 - val_loss: 2.1175 - val_acc: 0.4420\n"
     ]
    },
    {
     "name": "stdout",
     "output_type": "stream",
     "text": [
      "Epoch 25/50\n",
      "50000/50000 [==============================] - 9s 185us/step - loss: 0.4606 - acc: 0.8437 - val_loss: 2.0806 - val_acc: 0.4515\n",
      "Epoch 26/50\n",
      "50000/50000 [==============================] - 9s 179us/step - loss: 0.4373 - acc: 0.8510 - val_loss: 2.1822 - val_acc: 0.4199\n",
      "Epoch 27/50\n",
      "50000/50000 [==============================] - 9s 179us/step - loss: 0.4143 - acc: 0.8582 - val_loss: 2.0896 - val_acc: 0.4539\n",
      "Epoch 28/50\n",
      "50000/50000 [==============================] - 9s 178us/step - loss: 0.3933 - acc: 0.8672 - val_loss: 2.2568 - val_acc: 0.4267\n",
      "Epoch 00028: early stopping\n"
     ]
    }
   ],
   "source": [
    "# 載入 Callbacks\n",
    "\"\"\"Code Here\n",
    "設定 callbacks: Earlystop\n",
    "\"\"\"\n",
    "\n",
    "results = {}\n",
    "\"\"\"Code Here\n",
    "撰寫你的訓練流程並將結果用 dictionary 紀錄\n",
    "\"\"\"\n",
    "for pa in PATIENCE:\n",
    "    earlystop = EarlyStopping(monitor=\"val_loss\", \n",
    "                          patience=pa, \n",
    "                          verbose=1\n",
    "                          )\n",
    "    \n",
    "    keras.backend.clear_session() # 把舊的 Graph 清掉\n",
    "    print(\"Experiment with pa = %.6f\" % (pa))\n",
    "    model = build_mlp(input_shape=x_train.shape[1:])\n",
    "    model.summary()\n",
    "    #optimizer = keras.optimizers.SGD(lr=LEARNING_RATE, nesterov=True, momentum=MOMENTUM)\n",
    "    optimizer = keras.optimizers.Adam(lr=LEARNING_RATE, beta_1=0.9, beta_2=0.999)\n",
    "    model.compile(loss=\"categorical_crossentropy\", metrics=[\"accuracy\"], optimizer=optimizer)\n",
    "\n",
    "    model.fit(x_train, y_train, \n",
    "          epochs=EPOCHS, \n",
    "          batch_size=BATCH_SIZE, \n",
    "          validation_data=(x_test, y_test), \n",
    "          shuffle=True,\n",
    "          callbacks=[earlystop])\n",
    "\n",
    "    # Collect results\n",
    "    train_loss = model.history.history[\"loss\"]\n",
    "    valid_loss = model.history.history[\"val_loss\"]\n",
    "    train_acc = model.history.history[\"acc\"]\n",
    "    valid_acc = model.history.history[\"val_acc\"]\n",
    "\n",
    "    exp_name_tag = \"exp-pa-%s\" % str(pa)\n",
    "    results[exp_name_tag] = {'train-loss': train_loss,\n",
    "                             'valid-loss': valid_loss,\n",
    "                             'train-acc': train_acc,\n",
    "                             'valid-acc': valid_acc}"
   ]
  },
  {
   "cell_type": "code",
   "execution_count": 11,
   "metadata": {},
   "outputs": [
    {
     "data": {
      "image/png": "[encoded data removed]",
      "text/plain": [
       "<Figure size 432x288 with 1 Axes>"
      ]
     },
     "metadata": {
      "needs_background": "light"
     },
     "output_type": "display_data"
    },
    {
     "data": {
      "image/png": "[encoded data removed]",
      "text/plain": [
       "<Figure size 432x288 with 1 Axes>"
      ]
     },
     "metadata": {
      "needs_background": "light"
     },
     "output_type": "display_data"
    }
   ],
   "source": [
    "import matplotlib.pyplot as plt\n",
    "%matplotlib inline\n",
    "\n",
    "plt.plot(range(len(train_loss)), train_loss, label=\"train loss\")\n",
    "plt.plot(range(len(valid_loss)), valid_loss, label=\"valid loss\")\n",
    "plt.legend()\n",
    "plt.title(\"Loss\")\n",
    "plt.show()\n",
    "\n",
    "plt.plot(range(len(train_acc)), train_acc, label=\"train accuracy\")\n",
    "plt.plot(range(len(valid_acc)), valid_acc, label=\"valid accuracy\")\n",
    "plt.legend()\n",
    "plt.title(\"Accuracy\")\n",
    "plt.show()"
   ]
  },
  {
   "cell_type": "code",
   "execution_count": null,
   "metadata": {},
   "outputs": [],
   "source": []
  }
 ],
 "metadata": {
  "kernelspec": {
   "display_name": "Python 3",
   "language": "python",
   "name": "python3"
  },
  "language_info": {
   "codemirror_mode": {
    "name": "ipython",
    "version": 3
   },
   "file_extension": ".py",
   "mimetype": "text/x-python",
   "name": "python",
   "nbconvert_exporter": "python",
   "pygments_lexer": "ipython3",
   "version": "3.7.0"
  }
 },
 "nbformat": 4,
 "nbformat_minor": 2
}
